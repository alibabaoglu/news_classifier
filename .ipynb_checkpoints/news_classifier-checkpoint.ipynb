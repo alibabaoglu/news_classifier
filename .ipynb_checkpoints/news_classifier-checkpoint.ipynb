{
 "cells": [
  {
   "cell_type": "code",
   "execution_count": 3,
   "id": "eb8ca48b-c301-47b5-a8c4-1dfb4da51b28",
   "metadata": {},
   "outputs": [],
   "source": [
    "import pandas as pd\n",
    "import re\n",
    "import spacy\n",
    "import numpy as np\n",
    "import matplotlib.pyplot as plt\n",
    "from spacy.lang.de.stop_words import STOP_WORDS as de_stop\n",
    "from sklearn.feature_extraction.text import CountVectorizer\n",
    "from sklearn.pipeline import Pipeline\n",
    "from sklearn.feature_extraction.text import TfidfTransformer\n",
    "from sklearn.naive_bayes import MultinomialNB\n",
    "from sklearn.model_selection import train_test_split\n",
    "from sklearn.linear_model import SGDClassifier\n",
    "from sklearn.model_selection import GridSearchCV\n",
    "from sklearn.neighbors import KNeighborsClassifier\n",
    "from sklearn.neural_network import MLPClassifier\n",
    "from tqdm import tqdm"
   ]
  },
  {
   "cell_type": "code",
   "execution_count": 25,
   "id": "bbfcb34e-224c-4664-ad74-d16c2032bd9d",
   "metadata": {},
   "outputs": [
    {
     "data": {
      "text/html": [
       "<div>\n",
       "<style scoped>\n",
       "    .dataframe tbody tr th:only-of-type {\n",
       "        vertical-align: middle;\n",
       "    }\n",
       "\n",
       "    .dataframe tbody tr th {\n",
       "        vertical-align: top;\n",
       "    }\n",
       "\n",
       "    .dataframe thead th {\n",
       "        text-align: right;\n",
       "    }\n",
       "</style>\n",
       "<table border=\"1\" class=\"dataframe\">\n",
       "  <thead>\n",
       "    <tr style=\"text-align: right;\">\n",
       "      <th></th>\n",
       "      <th>title</th>\n",
       "      <th>text</th>\n",
       "      <th>category</th>\n",
       "    </tr>\n",
       "  </thead>\n",
       "  <tbody>\n",
       "    <tr>\n",
       "      <th>0</th>\n",
       "      <td>Dortmund siegt spät und rückt bis auf einen Pu...</td>\n",
       "      <td>Bis in die Schlussphase sah es aus, als könnte...</td>\n",
       "      <td>sport</td>\n",
       "    </tr>\n",
       "    <tr>\n",
       "      <th>1</th>\n",
       "      <td>Richtig sauer</td>\n",
       "      <td>Die erneute Quarantäne für den ungeimpften Kim...</td>\n",
       "      <td>sport</td>\n",
       "    </tr>\n",
       "  </tbody>\n",
       "</table>\n",
       "</div>"
      ],
      "text/plain": [
       "                                               title  \\\n",
       "0  Dortmund siegt spät und rückt bis auf einen Pu...   \n",
       "1                                      Richtig sauer   \n",
       "\n",
       "                                                text category  \n",
       "0  Bis in die Schlussphase sah es aus, als könnte...    sport  \n",
       "1  Die erneute Quarantäne für den ungeimpften Kim...    sport  "
      ]
     },
     "execution_count": 25,
     "metadata": {},
     "output_type": "execute_result"
    }
   ],
   "source": [
    "df=pd.read_csv('./data/news_data.csv', sep=',')\n",
    "df.head(2)"
   ]
  },
  {
   "cell_type": "code",
   "execution_count": 26,
   "id": "c00a40d1-1a4d-41f1-8636-0fff654b1d6e",
   "metadata": {},
   "outputs": [
    {
     "name": "stdout",
     "output_type": "stream",
     "text": [
      "<class 'pandas.core.frame.DataFrame'>\n",
      "RangeIndex: 86341 entries, 0 to 86340\n",
      "Data columns (total 3 columns):\n",
      " #   Column    Non-Null Count  Dtype \n",
      "---  ------    --------------  ----- \n",
      " 0   title     86341 non-null  object\n",
      " 1   text      85063 non-null  object\n",
      " 2   category  86341 non-null  object\n",
      "dtypes: object(3)\n",
      "memory usage: 2.0+ MB\n"
     ]
    }
   ],
   "source": [
    "df.info()"
   ]
  },
  {
   "cell_type": "code",
   "execution_count": 27,
   "id": "85ed291b-b4b7-4a79-8338-5ea5301d8a0a",
   "metadata": {},
   "outputs": [
    {
     "data": {
      "text/plain": [
       "politik         9959\n",
       "ausland         9956\n",
       "wirtschaft      9955\n",
       "panorama        9953\n",
       "sport           9918\n",
       "wissenschaft    9788\n",
       "netzwelt        9741\n",
       "kultur          9648\n",
       "geschichte      7423\n",
       "Name: category, dtype: int64"
      ]
     },
     "execution_count": 27,
     "metadata": {},
     "output_type": "execute_result"
    }
   ],
   "source": [
    "df[\"category\"].value_counts()"
   ]
  },
  {
   "cell_type": "code",
   "execution_count": 28,
   "id": "79222d9a-c182-4dbc-bafb-c9326bf699ee",
   "metadata": {},
   "outputs": [],
   "source": [
    "nlp = spacy.load(\"de_core_news_lg\")\n",
    "def text_preprocessing(text):\n",
    "    doc= nlp(text)\n",
    "    result =  [token.text.lower().strip() for token in doc if not token.is_stop and not token.is_punct and not token.lemma_ == '-PRON-']\n",
    "    return \" \".join(result)\n",
    "\n"
   ]
  },
  {
   "cell_type": "code",
   "execution_count": null,
   "id": "70c3751d-1d7b-420d-8a83-dbe14acb70e4",
   "metadata": {},
   "outputs": [
    {
     "name": "stderr",
     "output_type": "stream",
     "text": [
      "  0%|                                      | 123/86341 [00:01<13:07, 109.47it/s]"
     ]
    }
   ],
   "source": [
    "for index, row in tqdm(df.iterrows(), total=df.shape[0]):\n",
    "    df.at[index,\"title\"]= text_preprocessing(str(row['title']) + \" \" + str(row[\"text\"]))\n",
    "df.drop(columns='text')\n",
    "df.head()"
   ]
  },
  {
   "cell_type": "code",
   "execution_count": null,
   "id": "0744d22b-f4e5-4bc0-82ef-b5eee516a395",
   "metadata": {},
   "outputs": [],
   "source": [
    "df[df.isnull().any(axis=1)]"
   ]
  },
  {
   "cell_type": "code",
   "execution_count": null,
   "id": "71bc2fa7-653e-4813-a99f-aa9ebf8d8107",
   "metadata": {},
   "outputs": [],
   "source": [
    "df=df.dropna()\n",
    "df.isnull().sum()"
   ]
  },
  {
   "cell_type": "code",
   "execution_count": null,
   "id": "36b30c71-8a73-479b-bb54-a85e1faa2ef8",
   "metadata": {},
   "outputs": [],
   "source": [
    "df.to_pickle(\"news_data.pkl\")"
   ]
  },
  {
   "cell_type": "code",
   "execution_count": 4,
   "id": "fadce9fc-c8a6-4842-a459-90a1a54d25ba",
   "metadata": {},
   "outputs": [
    {
     "data": {
      "text/html": [
       "<div>\n",
       "<style scoped>\n",
       "    .dataframe tbody tr th:only-of-type {\n",
       "        vertical-align: middle;\n",
       "    }\n",
       "\n",
       "    .dataframe tbody tr th {\n",
       "        vertical-align: top;\n",
       "    }\n",
       "\n",
       "    .dataframe thead th {\n",
       "        text-align: right;\n",
       "    }\n",
       "</style>\n",
       "<table border=\"1\" class=\"dataframe\">\n",
       "  <thead>\n",
       "    <tr style=\"text-align: right;\">\n",
       "      <th></th>\n",
       "      <th>title</th>\n",
       "      <th>text</th>\n",
       "      <th>category</th>\n",
       "    </tr>\n",
       "  </thead>\n",
       "  <tbody>\n",
       "    <tr>\n",
       "      <th>0</th>\n",
       "      <td>dortmund siegt spät rückt punkt bayern heran s...</td>\n",
       "      <td>Bis in die Schlussphase sah es aus, als könnte...</td>\n",
       "      <td>sport</td>\n",
       "    </tr>\n",
       "    <tr>\n",
       "      <th>1</th>\n",
       "      <td>sauer erneute quarantäne ungeimpften kimmich b...</td>\n",
       "      <td>Die erneute Quarantäne für den ungeimpften Kim...</td>\n",
       "      <td>sport</td>\n",
       "    </tr>\n",
       "    <tr>\n",
       "      <th>2</th>\n",
       "      <td>kontrovers 2 g fußballprofis gestritten halten...</td>\n",
       "      <td>Die einen halten es für »schwer umsetzbar«, an...</td>\n",
       "      <td>sport</td>\n",
       "    </tr>\n",
       "    <tr>\n",
       "      <th>3</th>\n",
       "      <td>anfangs gefälschtes impfzertifikat markus anfa...</td>\n",
       "      <td>Ein wohl gefälschtes Impfzertifikat von Markus...</td>\n",
       "      <td>sport</td>\n",
       "    </tr>\n",
       "    <tr>\n",
       "      <th>4</th>\n",
       "      <td>anfang tritt coach werder bremen donnerstag er...</td>\n",
       "      <td>Am Donnerstag wurden Ermittlungen gegen den We...</td>\n",
       "      <td>sport</td>\n",
       "    </tr>\n",
       "  </tbody>\n",
       "</table>\n",
       "</div>"
      ],
      "text/plain": [
       "                                               title  \\\n",
       "0  dortmund siegt spät rückt punkt bayern heran s...   \n",
       "1  sauer erneute quarantäne ungeimpften kimmich b...   \n",
       "2  kontrovers 2 g fußballprofis gestritten halten...   \n",
       "3  anfangs gefälschtes impfzertifikat markus anfa...   \n",
       "4  anfang tritt coach werder bremen donnerstag er...   \n",
       "\n",
       "                                                text category  \n",
       "0  Bis in die Schlussphase sah es aus, als könnte...    sport  \n",
       "1  Die erneute Quarantäne für den ungeimpften Kim...    sport  \n",
       "2  Die einen halten es für »schwer umsetzbar«, an...    sport  \n",
       "3  Ein wohl gefälschtes Impfzertifikat von Markus...    sport  \n",
       "4  Am Donnerstag wurden Ermittlungen gegen den We...    sport  "
      ]
     },
     "execution_count": 4,
     "metadata": {},
     "output_type": "execute_result"
    }
   ],
   "source": [
    "saved_df = pd.read_pickle(\"news_data.pkl\")\n",
    "saved_df.head()"
   ]
  },
  {
   "cell_type": "code",
   "execution_count": 5,
   "id": "dd3cfead-b3a2-438d-9beb-ca8f724f9746",
   "metadata": {},
   "outputs": [
    {
     "data": {
      "text/plain": [
       "{1: 'sport',\n",
       " 2: 'wirtschaft',\n",
       " 3: 'netzwelt',\n",
       " 4: 'wissenschaft',\n",
       " 5: 'kultur',\n",
       " 6: 'geschichte',\n",
       " 7: 'politik',\n",
       " 8: 'ausland',\n",
       " 9: 'panorama'}"
      ]
     },
     "execution_count": 5,
     "metadata": {},
     "output_type": "execute_result"
    }
   ],
   "source": [
    "list_all_category=saved_df[\"category\"].unique()\n",
    "#convert list with categorys to dict\n",
    "dict_category = { i + 1: list_all_category[i] for i in range(0, len(list_all_category) ) }\n",
    "dict_category"
   ]
  },
  {
   "cell_type": "code",
   "execution_count": 6,
   "id": "aa433cda-c4e6-44d9-8174-b7894067a37e",
   "metadata": {},
   "outputs": [
    {
     "data": {
      "text/html": [
       "<div>\n",
       "<style scoped>\n",
       "    .dataframe tbody tr th:only-of-type {\n",
       "        vertical-align: middle;\n",
       "    }\n",
       "\n",
       "    .dataframe tbody tr th {\n",
       "        vertical-align: top;\n",
       "    }\n",
       "\n",
       "    .dataframe thead th {\n",
       "        text-align: right;\n",
       "    }\n",
       "</style>\n",
       "<table border=\"1\" class=\"dataframe\">\n",
       "  <thead>\n",
       "    <tr style=\"text-align: right;\">\n",
       "      <th></th>\n",
       "      <th>title</th>\n",
       "      <th>text</th>\n",
       "      <th>category</th>\n",
       "      <th>id</th>\n",
       "    </tr>\n",
       "  </thead>\n",
       "  <tbody>\n",
       "    <tr>\n",
       "      <th>0</th>\n",
       "      <td>dortmund siegt spät rückt punkt bayern heran s...</td>\n",
       "      <td>Bis in die Schlussphase sah es aus, als könnte...</td>\n",
       "      <td>sport</td>\n",
       "      <td>1</td>\n",
       "    </tr>\n",
       "    <tr>\n",
       "      <th>1</th>\n",
       "      <td>sauer erneute quarantäne ungeimpften kimmich b...</td>\n",
       "      <td>Die erneute Quarantäne für den ungeimpften Kim...</td>\n",
       "      <td>sport</td>\n",
       "      <td>1</td>\n",
       "    </tr>\n",
       "    <tr>\n",
       "      <th>2</th>\n",
       "      <td>kontrovers 2 g fußballprofis gestritten halten...</td>\n",
       "      <td>Die einen halten es für »schwer umsetzbar«, an...</td>\n",
       "      <td>sport</td>\n",
       "      <td>1</td>\n",
       "    </tr>\n",
       "    <tr>\n",
       "      <th>3</th>\n",
       "      <td>anfangs gefälschtes impfzertifikat markus anfa...</td>\n",
       "      <td>Ein wohl gefälschtes Impfzertifikat von Markus...</td>\n",
       "      <td>sport</td>\n",
       "      <td>1</td>\n",
       "    </tr>\n",
       "    <tr>\n",
       "      <th>4</th>\n",
       "      <td>anfang tritt coach werder bremen donnerstag er...</td>\n",
       "      <td>Am Donnerstag wurden Ermittlungen gegen den We...</td>\n",
       "      <td>sport</td>\n",
       "      <td>1</td>\n",
       "    </tr>\n",
       "    <tr>\n",
       "      <th>...</th>\n",
       "      <td>...</td>\n",
       "      <td>...</td>\n",
       "      <td>...</td>\n",
       "      <td>...</td>\n",
       "    </tr>\n",
       "    <tr>\n",
       "      <th>86335</th>\n",
       "      <td>schüler falscher todesanzeige cybermobbings ve...</td>\n",
       "      <td>Morddrohungen, Links zu Pornoseiten, eine fals...</td>\n",
       "      <td>panorama</td>\n",
       "      <td>9</td>\n",
       "    </tr>\n",
       "    <tr>\n",
       "      <th>86336</th>\n",
       "      <td>zentralrat juden fordert bestrafung härte gese...</td>\n",
       "      <td>Zum Beginn des Prozesses gegen den Attentäter ...</td>\n",
       "      <td>panorama</td>\n",
       "      <td>9</td>\n",
       "    </tr>\n",
       "    <tr>\n",
       "      <th>86337</th>\n",
       "      <td>baby ausgesetzt 32-jährige haft verurteilt neu...</td>\n",
       "      <td>Sie hatte ihr Neugeborenes auf einer Wiese aus...</td>\n",
       "      <td>panorama</td>\n",
       "      <td>9</td>\n",
       "    </tr>\n",
       "    <tr>\n",
       "      <th>86339</th>\n",
       "      <td>bewaffneter mann nimmt mindestens geiseln ukra...</td>\n",
       "      <td>In der ukrainischen Stadt Luzk hat es eine Gei...</td>\n",
       "      <td>panorama</td>\n",
       "      <td>9</td>\n",
       "    </tr>\n",
       "    <tr>\n",
       "      <th>86340</th>\n",
       "      <td>rivalen freunde ex-boyzone-sänger ronan keatin...</td>\n",
       "      <td>Ex-Boyzone-Sänger Ronan Keating schwärmt von T...</td>\n",
       "      <td>panorama</td>\n",
       "      <td>9</td>\n",
       "    </tr>\n",
       "  </tbody>\n",
       "</table>\n",
       "<p>85063 rows × 4 columns</p>\n",
       "</div>"
      ],
      "text/plain": [
       "                                                   title  \\\n",
       "0      dortmund siegt spät rückt punkt bayern heran s...   \n",
       "1      sauer erneute quarantäne ungeimpften kimmich b...   \n",
       "2      kontrovers 2 g fußballprofis gestritten halten...   \n",
       "3      anfangs gefälschtes impfzertifikat markus anfa...   \n",
       "4      anfang tritt coach werder bremen donnerstag er...   \n",
       "...                                                  ...   \n",
       "86335  schüler falscher todesanzeige cybermobbings ve...   \n",
       "86336  zentralrat juden fordert bestrafung härte gese...   \n",
       "86337  baby ausgesetzt 32-jährige haft verurteilt neu...   \n",
       "86339  bewaffneter mann nimmt mindestens geiseln ukra...   \n",
       "86340  rivalen freunde ex-boyzone-sänger ronan keatin...   \n",
       "\n",
       "                                                    text  category  id  \n",
       "0      Bis in die Schlussphase sah es aus, als könnte...     sport   1  \n",
       "1      Die erneute Quarantäne für den ungeimpften Kim...     sport   1  \n",
       "2      Die einen halten es für »schwer umsetzbar«, an...     sport   1  \n",
       "3      Ein wohl gefälschtes Impfzertifikat von Markus...     sport   1  \n",
       "4      Am Donnerstag wurden Ermittlungen gegen den We...     sport   1  \n",
       "...                                                  ...       ...  ..  \n",
       "86335  Morddrohungen, Links zu Pornoseiten, eine fals...  panorama   9  \n",
       "86336  Zum Beginn des Prozesses gegen den Attentäter ...  panorama   9  \n",
       "86337  Sie hatte ihr Neugeborenes auf einer Wiese aus...  panorama   9  \n",
       "86339  In der ukrainischen Stadt Luzk hat es eine Gei...  panorama   9  \n",
       "86340  Ex-Boyzone-Sänger Ronan Keating schwärmt von T...  panorama   9  \n",
       "\n",
       "[85063 rows x 4 columns]"
      ]
     },
     "execution_count": 6,
     "metadata": {},
     "output_type": "execute_result"
    }
   ],
   "source": [
    "\n",
    "# takes the current value of column category and searches for the key in dict_category and write it in colum \"id\" \n",
    "saved_df[\"id\"]= [list(dict_category.keys())[list(dict_category.values()).index(i)] for i in saved_df[\"category\"]]\n",
    "saved_df"
   ]
  },
  {
   "cell_type": "code",
   "execution_count": 7,
   "id": "d9713fbf-2259-49a1-97ab-b69df59c0dbb",
   "metadata": {},
   "outputs": [
    {
     "data": {
      "text/html": [
       "<div>\n",
       "<style scoped>\n",
       "    .dataframe tbody tr th:only-of-type {\n",
       "        vertical-align: middle;\n",
       "    }\n",
       "\n",
       "    .dataframe tbody tr th {\n",
       "        vertical-align: top;\n",
       "    }\n",
       "\n",
       "    .dataframe thead th {\n",
       "        text-align: right;\n",
       "    }\n",
       "</style>\n",
       "<table border=\"1\" class=\"dataframe\">\n",
       "  <thead>\n",
       "    <tr style=\"text-align: right;\">\n",
       "      <th></th>\n",
       "      <th>title</th>\n",
       "      <th>text</th>\n",
       "      <th>category</th>\n",
       "      <th>id</th>\n",
       "    </tr>\n",
       "  </thead>\n",
       "  <tbody>\n",
       "    <tr>\n",
       "      <th>30349</th>\n",
       "      <td>covid-19-patienten beschwerden patienten covid...</td>\n",
       "      <td>Patienten, die mit Covid-19 im Krankenhaus lag...</td>\n",
       "      <td>wissenschaft</td>\n",
       "      <td>4</td>\n",
       "    </tr>\n",
       "    <tr>\n",
       "      <th>36367</th>\n",
       "      <td>forscher entdecken möglicherweise spezies tief...</td>\n",
       "      <td>Tief im indischen Ozean stieß eine Expedition ...</td>\n",
       "      <td>wissenschaft</td>\n",
       "      <td>4</td>\n",
       "    </tr>\n",
       "    <tr>\n",
       "      <th>85804</th>\n",
       "      <td>frachter mauritius  zerbricht teile mauritius ...</td>\n",
       "      <td>Der vor Mauritius havarierte Frachter \"Wakashi...</td>\n",
       "      <td>panorama</td>\n",
       "      <td>9</td>\n",
       "    </tr>\n",
       "    <tr>\n",
       "      <th>61901</th>\n",
       "      <td>merkel-bonus zustimmungswerte pandemie verscha...</td>\n",
       "      <td>Nie waren ihre Zustimmungswerte so hoch wie he...</td>\n",
       "      <td>politik</td>\n",
       "      <td>7</td>\n",
       "    </tr>\n",
       "    <tr>\n",
       "      <th>7981</th>\n",
       "      <td>absolut schockiert freunde fans kobe bryant üb...</td>\n",
       "      <td>Freunde und Fans von Kobe Bryant können den üb...</td>\n",
       "      <td>sport</td>\n",
       "      <td>1</td>\n",
       "    </tr>\n",
       "    <tr>\n",
       "      <th>...</th>\n",
       "      <td>...</td>\n",
       "      <td>...</td>\n",
       "      <td>...</td>\n",
       "      <td>...</td>\n",
       "    </tr>\n",
       "    <tr>\n",
       "      <th>52220</th>\n",
       "      <td>top of the flops erzwungene playback-auftritte...</td>\n",
       "      <td>Erzwungene Playback-Auftritte und Kuchenschlac...</td>\n",
       "      <td>geschichte</td>\n",
       "      <td>6</td>\n",
       "    </tr>\n",
       "    <tr>\n",
       "      <th>13797</th>\n",
       "      <td>betonlobby holzhäuser kämpft zwölf sekunden wa...</td>\n",
       "      <td>Alle zwölf Sekunden wachsen in Deutschland gen...</td>\n",
       "      <td>wirtschaft</td>\n",
       "      <td>2</td>\n",
       "    </tr>\n",
       "    <tr>\n",
       "      <th>84497</th>\n",
       "      <td>fungie tauchte 37 südwestküste irlands blieb f...</td>\n",
       "      <td>Er tauchte vor 37 Jahren vor der Südwestküste ...</td>\n",
       "      <td>panorama</td>\n",
       "      <td>9</td>\n",
       "    </tr>\n",
       "    <tr>\n",
       "      <th>57426</th>\n",
       "      <td>verluste bitter jens spahn fordert historische...</td>\n",
       "      <td>Jens Spahn fordert nach dem historischen Abstu...</td>\n",
       "      <td>politik</td>\n",
       "      <td>7</td>\n",
       "    </tr>\n",
       "    <tr>\n",
       "      <th>85683</th>\n",
       "      <td>sonderermittler kindesmissbrauch neuer lka-che...</td>\n",
       "      <td>Das nordrhein-westfälische Landeskriminalamt b...</td>\n",
       "      <td>panorama</td>\n",
       "      <td>9</td>\n",
       "    </tr>\n",
       "  </tbody>\n",
       "</table>\n",
       "<p>68050 rows × 4 columns</p>\n",
       "</div>"
      ],
      "text/plain": [
       "                                                   title  \\\n",
       "30349  covid-19-patienten beschwerden patienten covid...   \n",
       "36367  forscher entdecken möglicherweise spezies tief...   \n",
       "85804  frachter mauritius  zerbricht teile mauritius ...   \n",
       "61901  merkel-bonus zustimmungswerte pandemie verscha...   \n",
       "7981   absolut schockiert freunde fans kobe bryant üb...   \n",
       "...                                                  ...   \n",
       "52220  top of the flops erzwungene playback-auftritte...   \n",
       "13797  betonlobby holzhäuser kämpft zwölf sekunden wa...   \n",
       "84497  fungie tauchte 37 südwestküste irlands blieb f...   \n",
       "57426  verluste bitter jens spahn fordert historische...   \n",
       "85683  sonderermittler kindesmissbrauch neuer lka-che...   \n",
       "\n",
       "                                                    text      category  id  \n",
       "30349  Patienten, die mit Covid-19 im Krankenhaus lag...  wissenschaft   4  \n",
       "36367  Tief im indischen Ozean stieß eine Expedition ...  wissenschaft   4  \n",
       "85804  Der vor Mauritius havarierte Frachter \"Wakashi...      panorama   9  \n",
       "61901  Nie waren ihre Zustimmungswerte so hoch wie he...       politik   7  \n",
       "7981   Freunde und Fans von Kobe Bryant können den üb...         sport   1  \n",
       "...                                                  ...           ...  ..  \n",
       "52220  Erzwungene Playback-Auftritte und Kuchenschlac...    geschichte   6  \n",
       "13797  Alle zwölf Sekunden wachsen in Deutschland gen...    wirtschaft   2  \n",
       "84497  Er tauchte vor 37 Jahren vor der Südwestküste ...      panorama   9  \n",
       "57426  Jens Spahn fordert nach dem historischen Abstu...       politik   7  \n",
       "85683  Das nordrhein-westfälische Landeskriminalamt b...      panorama   9  \n",
       "\n",
       "[68050 rows x 4 columns]"
      ]
     },
     "execution_count": 7,
     "metadata": {},
     "output_type": "execute_result"
    }
   ],
   "source": [
    "train, test = train_test_split(saved_df, test_size=0.2)\n",
    "train_x= train['title']\n",
    "train_y= train['id']\n",
    "test_x = test['title']\n",
    "test_y = test['id']\n",
    "train"
   ]
  },
  {
   "cell_type": "code",
   "execution_count": 8,
   "id": "4e78c59b-8130-4087-9abf-8bb45b1fca56",
   "metadata": {},
   "outputs": [
    {
     "data": {
      "text/plain": [
       "0.785516957620643"
      ]
     },
     "execution_count": 8,
     "metadata": {},
     "output_type": "execute_result"
    }
   ],
   "source": [
    "text_clf = Pipeline([\n",
    "    ('vect', CountVectorizer()),\n",
    "    ('tfidf', TfidfTransformer()),\n",
    "    ('clf', MultinomialNB()),\n",
    "])\n",
    "text_clf.fit(train_x, train_y)\n",
    "\n",
    "    \n",
    "predicted = text_clf.predict(test_x)\n",
    "np.mean(predicted == test_y)\n"
   ]
  },
  {
   "cell_type": "code",
   "execution_count": 9,
   "id": "4014be74-7011-47f2-b063-509c5a2e0ae5",
   "metadata": {},
   "outputs": [
    {
     "data": {
      "text/plain": [
       "17013"
      ]
     },
     "execution_count": 9,
     "metadata": {},
     "output_type": "execute_result"
    }
   ],
   "source": [
    "len(predicted)"
   ]
  },
  {
   "cell_type": "code",
   "execution_count": 19,
   "id": "71842905-f15f-4d35-89f6-646ade250c72",
   "metadata": {},
   "outputs": [
    {
     "name": "stdout",
     "output_type": "stream",
     "text": [
      "Ich schieße ein Tor... ==> prediction:  sport\n"
     ]
    }
   ],
   "source": [
    "docs_new= [\"Ich schieße ein Tor\"]\n",
    "predicted = text_clf.predict(docs_new)\n",
    "for doc, id in zip(docs_new, predicted):\n",
    "    print(docs_new[0][:50]+ \"... ==> prediction: \",dict_category[id])"
   ]
  },
  {
   "cell_type": "code",
   "execution_count": null,
   "id": "ad001277-2cf6-4601-814f-58d658fdc48b",
   "metadata": {},
   "outputs": [],
   "source": []
  }
 ],
 "metadata": {
  "kernelspec": {
   "display_name": "Python 3 (ipykernel)",
   "language": "python",
   "name": "python3"
  },
  "language_info": {
   "codemirror_mode": {
    "name": "ipython",
    "version": 3
   },
   "file_extension": ".py",
   "mimetype": "text/x-python",
   "name": "python",
   "nbconvert_exporter": "python",
   "pygments_lexer": "ipython3",
   "version": "3.9.7"
  }
 },
 "nbformat": 4,
 "nbformat_minor": 5
}
